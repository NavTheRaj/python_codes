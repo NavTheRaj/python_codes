{
 "cells": [
  {
   "cell_type": "code",
   "execution_count": 2,
   "metadata": {},
   "outputs": [],
   "source": [
    "# Program that accepts  Pssword when it has at least:\n",
    "#     *One digit\n",
    "#     *One Upper Case\n",
    "#     *One Lower Case\n",
    "#     *One Special Character"
   ]
  },
  {
   "cell_type": "code",
   "execution_count": null,
   "metadata": {
    "scrolled": true
   },
   "outputs": [],
   "source": [
    "digit_flag=False\n",
    "upper_flag=False\n",
    "lower_flag=False\n",
    "special_flag=False\n",
    "\n",
    "password_accept=False\n",
    "\n",
    "password=input('Enter a password\\n')\n",
    "\n",
    "while password_accept==False :\n",
    "    for char in password:\n",
    "        if char.isdigit():\n",
    "            digit_flag=True\n",
    "        if char.isupper():\n",
    "            upper_flag=True\n",
    "        if char.islower():\n",
    "            lower_flag=True\n",
    "    if digit_flag and upper_flag and lower_flag:\n",
    "        print(\"Password is valid\")\n",
    "        password_accept=True\n",
    "    else:\n",
    "        password=input('Password is not valid')\n",
    "        password_accept=False"
   ]
  }
 ],
 "metadata": {
  "kernelspec": {
   "display_name": "Python 3",
   "language": "python",
   "name": "python3"
  },
  "language_info": {
   "codemirror_mode": {
    "name": "ipython",
    "version": 3
   },
   "file_extension": ".py",
   "mimetype": "text/x-python",
   "name": "python",
   "nbconvert_exporter": "python",
   "pygments_lexer": "ipython3",
   "version": "3.5.6"
  }
 },
 "nbformat": 4,
 "nbformat_minor": 1
}
